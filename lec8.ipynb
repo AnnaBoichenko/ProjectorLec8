{
 "cells": [
  {
   "cell_type": "markdown",
   "metadata": {},
   "source": [
    "You have 100 cats.\n",
    "\n",
    "One day you decide to arrange all your cats in a giant circle. Initially, none of your cats have any hats on. You walk around the circle 100 times, always starting at the same spot, with the first cat (cat # 1). Every time you stop at a cat, you either put a hat on it if it doesn’t have one on, or you take its hat off if it has one on.\n",
    "\n",
    "In The first round, you stop at every cat, placing a hat on each one.\n",
    "In The second round, you only stop at every second cat (#2, #4, #6, #8, etc.).\n",
    "In The third round, you only stop at every third cat(#3, #6, #9, #12, etc.).\n",
    "You continue this process until you’ve made 100 rounds around the cats (e.g., you only visit the 100th cat).\n",
    "\n",
    "\n",
    "Write a program that simply outputs which cats have hats at the end.\n",
    "\n",
    "Optional: Make a function that can calculate hats with any amount of rounds and cats.\n",
    "\n",
    "Here you should write an algorithm, and after that, try to make pseudo code. Only after that start to work. The code is simple here, but you might struggle with the algorithm. Therefore don`t try to write a code from the first attempt. Don't forget to calculate the complexity of your algorithm."
   ]
  },
  {
   "cell_type": "code",
   "execution_count": 28,
   "metadata": {},
   "outputs": [
    {
     "name": "stdout",
     "output_type": "stream",
     "text": [
      "{1: 'hat', 2: None, 3: None, 4: 'hat', 5: None, 6: None, 7: None, 8: None, 9: 'hat', 10: None, 11: None, 12: None, 13: None, 14: None, 15: None, 16: 'hat', 17: None, 18: None, 19: None, 20: None, 21: None, 22: None, 23: None, 24: None, 25: 'hat', 26: None, 27: None, 28: None, 29: None, 30: None, 31: None, 32: None, 33: None, 34: None, 35: None, 36: 'hat', 37: None, 38: None, 39: None, 40: None, 41: None, 42: None, 43: None, 44: None, 45: None, 46: None, 47: None, 48: None, 49: 'hat', 50: None, 51: None, 52: None, 53: None, 54: None, 55: None, 56: None, 57: None, 58: None, 59: None, 60: None, 61: None, 62: None, 63: None, 64: 'hat', 65: None, 66: None, 67: None, 68: None, 69: None, 70: None, 71: None, 72: None, 73: None, 74: None, 75: None, 76: None, 77: None, 78: None, 79: None, 80: None, 81: 'hat', 82: None, 83: None, 84: None, 85: None, 86: None, 87: None, 88: None, 89: None, 90: None, 91: None, 92: None, 93: None, 94: None, 95: None, 96: None, 97: None, 98: None, 99: None, 100: 'hat'}\n",
      "[1, 4, 9, 16, 25, 36, 49, 64, 81, 100]\n"
     ]
    }
   ],
   "source": [
    "cats = {i: None for i in range(1, 101)} #O(n)\n",
    "\n",
    "for round in range(1, 101):     #O(n)\n",
    "    for cat_num, hat in cats.items():       #O(n)\n",
    "        if cat_num % round == 0:    # const\n",
    "            if hat == None:\n",
    "                cats[cat_num] = \"hat\"   # const in average\n",
    "            else:\n",
    "                cats[cat_num] = None # const in average\n",
    "answer = [key for key, value in cats.items() if value is not None]      #O(n)\n",
    "\n",
    "print(cats)\n",
    "print(answer)\n",
    "\n",
    "\"\"\"\n",
    "complexity:\n",
    "O(n) + O(n)**O(n) + O(n) = O(n^2)\n",
    "\"\"\""
   ]
  }
 ],
 "metadata": {
  "kernelspec": {
   "display_name": "Python 3",
   "language": "python",
   "name": "python3"
  },
  "language_info": {
   "codemirror_mode": {
    "name": "ipython",
    "version": 3
   },
   "file_extension": ".py",
   "mimetype": "text/x-python",
   "name": "python",
   "nbconvert_exporter": "python",
   "pygments_lexer": "ipython3",
   "version": "3.10.11"
  },
  "orig_nbformat": 4
 },
 "nbformat": 4,
 "nbformat_minor": 2
}
